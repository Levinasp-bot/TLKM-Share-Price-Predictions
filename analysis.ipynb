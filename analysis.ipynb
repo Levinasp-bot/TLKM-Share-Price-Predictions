{
 "cells": [
  {
   "cell_type": "code",
   "execution_count": 1,
   "metadata": {},
   "outputs": [
    {
     "name": "stdout",
     "output_type": "stream",
     "text": [
      "WARNING:tensorflow:From c:\\Users\\A S U S\\anaconda3\\Lib\\site-packages\\keras\\src\\losses.py:2976: The name tf.losses.sparse_softmax_cross_entropy is deprecated. Please use tf.compat.v1.losses.sparse_softmax_cross_entropy instead.\n",
      "\n"
     ]
    }
   ],
   "source": [
    "import numpy as np\n",
    "import pandas as pd\n",
    "\n",
    "import os\n",
    "import matplotlib.pyplot as plt\n",
    "import pandas_datareader as web\n",
    "import datetime as dt\n",
    "\n",
    "from sklearn.preprocessing import MinMaxScaler\n",
    "from tensorflow.keras.models import Sequential\n",
    "from tensorflow.keras.layers import Dense, Dropout, LSTM\n",
    "from tensorflow.keras.callbacks import ModelCheckpoint"
   ]
  },
  {
   "cell_type": "code",
   "execution_count": 2,
   "metadata": {},
   "outputs": [],
   "source": [
    "df = pd.read_csv('tlkm_new.csv', parse_dates=['Date'])"
   ]
  },
  {
   "cell_type": "code",
   "execution_count": 4,
   "metadata": {},
   "outputs": [],
   "source": [
    "def load_data(company, start, end):\n",
    "    dataframe = df.copy()\n",
    "    dataframe = dataframe.loc[dataframe.Name == company, :]\n",
    "    dataframe = dataframe.loc[(dataframe['Date'] > start) & (dataframe['Date'] < end), :]\n",
    "    dataframe = dataframe.rename(columns = {'Closing_Price': 'Close'})\n",
    "    return dataframe"
   ]
  },
  {
   "cell_type": "code",
   "execution_count": 5,
   "metadata": {},
   "outputs": [
    {
     "data": {
      "text/html": [
       "<div>\n",
       "<style scoped>\n",
       "    .dataframe tbody tr th:only-of-type {\n",
       "        vertical-align: middle;\n",
       "    }\n",
       "\n",
       "    .dataframe tbody tr th {\n",
       "        vertical-align: top;\n",
       "    }\n",
       "\n",
       "    .dataframe thead th {\n",
       "        text-align: right;\n",
       "    }\n",
       "</style>\n",
       "<table border=\"1\" class=\"dataframe\">\n",
       "  <thead>\n",
       "    <tr style=\"text-align: right;\">\n",
       "      <th></th>\n",
       "      <th>Date</th>\n",
       "      <th>Open</th>\n",
       "      <th>High</th>\n",
       "      <th>Low</th>\n",
       "      <th>Close</th>\n",
       "      <th>Adj Close</th>\n",
       "      <th>Volume</th>\n",
       "      <th>Name</th>\n",
       "    </tr>\n",
       "  </thead>\n",
       "  <tbody>\n",
       "    <tr>\n",
       "      <th>0</th>\n",
       "      <td>2020-12-30</td>\n",
       "      <td>3420.0</td>\n",
       "      <td>3420.0</td>\n",
       "      <td>3310.0</td>\n",
       "      <td>3310.0</td>\n",
       "      <td>2917.152588</td>\n",
       "      <td>150844500</td>\n",
       "      <td>tlkm</td>\n",
       "    </tr>\n",
       "    <tr>\n",
       "      <th>1</th>\n",
       "      <td>2021-01-04</td>\n",
       "      <td>3320.0</td>\n",
       "      <td>3500.0</td>\n",
       "      <td>3310.0</td>\n",
       "      <td>3490.0</td>\n",
       "      <td>3075.789307</td>\n",
       "      <td>165339800</td>\n",
       "      <td>tlkm</td>\n",
       "    </tr>\n",
       "    <tr>\n",
       "      <th>2</th>\n",
       "      <td>2021-01-05</td>\n",
       "      <td>3480.0</td>\n",
       "      <td>3480.0</td>\n",
       "      <td>3420.0</td>\n",
       "      <td>3470.0</td>\n",
       "      <td>3058.163086</td>\n",
       "      <td>157800700</td>\n",
       "      <td>tlkm</td>\n",
       "    </tr>\n",
       "    <tr>\n",
       "      <th>3</th>\n",
       "      <td>2021-01-06</td>\n",
       "      <td>3470.0</td>\n",
       "      <td>3490.0</td>\n",
       "      <td>3330.0</td>\n",
       "      <td>3370.0</td>\n",
       "      <td>2970.031250</td>\n",
       "      <td>177877900</td>\n",
       "      <td>tlkm</td>\n",
       "    </tr>\n",
       "    <tr>\n",
       "      <th>4</th>\n",
       "      <td>2021-01-07</td>\n",
       "      <td>3390.0</td>\n",
       "      <td>3450.0</td>\n",
       "      <td>3380.0</td>\n",
       "      <td>3390.0</td>\n",
       "      <td>2987.657715</td>\n",
       "      <td>140221900</td>\n",
       "      <td>tlkm</td>\n",
       "    </tr>\n",
       "  </tbody>\n",
       "</table>\n",
       "</div>"
      ],
      "text/plain": [
       "        Date    Open    High     Low   Close    Adj Close     Volume  Name\n",
       "0 2020-12-30  3420.0  3420.0  3310.0  3310.0  2917.152588  150844500  tlkm\n",
       "1 2021-01-04  3320.0  3500.0  3310.0  3490.0  3075.789307  165339800  tlkm\n",
       "2 2021-01-05  3480.0  3480.0  3420.0  3470.0  3058.163086  157800700  tlkm\n",
       "3 2021-01-06  3470.0  3490.0  3330.0  3370.0  2970.031250  177877900  tlkm\n",
       "4 2021-01-07  3390.0  3450.0  3380.0  3390.0  2987.657715  140221900  tlkm"
      ]
     },
     "execution_count": 5,
     "metadata": {},
     "output_type": "execute_result"
    }
   ],
   "source": [
    "df.head()"
   ]
  },
  {
   "cell_type": "code",
   "execution_count": 6,
   "metadata": {},
   "outputs": [
    {
     "data": {
      "text/html": [
       "<div>\n",
       "<style scoped>\n",
       "    .dataframe tbody tr th:only-of-type {\n",
       "        vertical-align: middle;\n",
       "    }\n",
       "\n",
       "    .dataframe tbody tr th {\n",
       "        vertical-align: top;\n",
       "    }\n",
       "\n",
       "    .dataframe thead th {\n",
       "        text-align: right;\n",
       "    }\n",
       "</style>\n",
       "<table border=\"1\" class=\"dataframe\">\n",
       "  <thead>\n",
       "    <tr style=\"text-align: right;\">\n",
       "      <th></th>\n",
       "      <th>Date</th>\n",
       "      <th>Open</th>\n",
       "      <th>High</th>\n",
       "      <th>Low</th>\n",
       "      <th>Close</th>\n",
       "      <th>Adj Close</th>\n",
       "      <th>Volume</th>\n",
       "      <th>Name</th>\n",
       "    </tr>\n",
       "  </thead>\n",
       "  <tbody>\n",
       "    <tr>\n",
       "      <th>728</th>\n",
       "      <td>2023-12-21</td>\n",
       "      <td>3960.0</td>\n",
       "      <td>3970.0</td>\n",
       "      <td>3930.0</td>\n",
       "      <td>3950.0</td>\n",
       "      <td>3950.0</td>\n",
       "      <td>48242100</td>\n",
       "      <td>tlkm</td>\n",
       "    </tr>\n",
       "    <tr>\n",
       "      <th>729</th>\n",
       "      <td>2023-12-22</td>\n",
       "      <td>3980.0</td>\n",
       "      <td>3980.0</td>\n",
       "      <td>3950.0</td>\n",
       "      <td>3960.0</td>\n",
       "      <td>3960.0</td>\n",
       "      <td>28222700</td>\n",
       "      <td>tlkm</td>\n",
       "    </tr>\n",
       "    <tr>\n",
       "      <th>730</th>\n",
       "      <td>2023-12-27</td>\n",
       "      <td>3990.0</td>\n",
       "      <td>4000.0</td>\n",
       "      <td>3920.0</td>\n",
       "      <td>3940.0</td>\n",
       "      <td>3940.0</td>\n",
       "      <td>73157200</td>\n",
       "      <td>tlkm</td>\n",
       "    </tr>\n",
       "    <tr>\n",
       "      <th>731</th>\n",
       "      <td>2023-12-28</td>\n",
       "      <td>3960.0</td>\n",
       "      <td>3970.0</td>\n",
       "      <td>3940.0</td>\n",
       "      <td>3960.0</td>\n",
       "      <td>3960.0</td>\n",
       "      <td>34024400</td>\n",
       "      <td>tlkm</td>\n",
       "    </tr>\n",
       "    <tr>\n",
       "      <th>732</th>\n",
       "      <td>2023-12-29</td>\n",
       "      <td>3960.0</td>\n",
       "      <td>3980.0</td>\n",
       "      <td>3940.0</td>\n",
       "      <td>3950.0</td>\n",
       "      <td>3950.0</td>\n",
       "      <td>27497600</td>\n",
       "      <td>tlkm</td>\n",
       "    </tr>\n",
       "  </tbody>\n",
       "</table>\n",
       "</div>"
      ],
      "text/plain": [
       "          Date    Open    High     Low   Close  Adj Close    Volume  Name\n",
       "728 2023-12-21  3960.0  3970.0  3930.0  3950.0     3950.0  48242100  tlkm\n",
       "729 2023-12-22  3980.0  3980.0  3950.0  3960.0     3960.0  28222700  tlkm\n",
       "730 2023-12-27  3990.0  4000.0  3920.0  3940.0     3940.0  73157200  tlkm\n",
       "731 2023-12-28  3960.0  3970.0  3940.0  3960.0     3960.0  34024400  tlkm\n",
       "732 2023-12-29  3960.0  3980.0  3940.0  3950.0     3950.0  27497600  tlkm"
      ]
     },
     "execution_count": 6,
     "metadata": {},
     "output_type": "execute_result"
    }
   ],
   "source": [
    "df.tail()"
   ]
  },
  {
   "cell_type": "code",
   "execution_count": 16,
   "metadata": {},
   "outputs": [],
   "source": [
    "COMPANY = 'tlkm'\n",
    "START_DATE = dt.datetime(2020,12,30)\n",
    "END_DATE = dt.datetime(2023,6,6)\n",
    "\n",
    "START_DATE_TEST = END_DATE\n",
    "END_DATE_TEST = dt.datetime(2023,12,29)"
   ]
  },
  {
   "cell_type": "code",
   "execution_count": 17,
   "metadata": {},
   "outputs": [],
   "source": [
    "data = load_data(company = COMPANY,\n",
    "                 start = START_DATE,\n",
    "                 end = END_DATE)"
   ]
  },
  {
   "cell_type": "code",
   "execution_count": 18,
   "metadata": {},
   "outputs": [],
   "source": [
    "# Normalize data\n",
    "scaler = MinMaxScaler(feature_range=(0,1))\n",
    "scaled_data = scaler.fit_transform(data['Close'].values.reshape(-1,1))"
   ]
  },
  {
   "cell_type": "code",
   "execution_count": 19,
   "metadata": {},
   "outputs": [],
   "source": [
    "prediction_days = 60\n",
    "\n",
    "x_train = []\n",
    "y_train = []\n",
    "\n",
    "for x in range(prediction_days, len(scaled_data)):\n",
    "    x_train.append(scaled_data[x - prediction_days:x, 0])\n",
    "    y_train.append(scaled_data[x, 0])\n",
    "\n",
    "x_train, y_train = np.array(x_train), np.array(y_train)\n",
    "\n",
    "x_train = np.reshape(x_train, (x_train.shape[0], x_train.shape[1], 1))"
   ]
  },
  {
   "cell_type": "code",
   "execution_count": 20,
   "metadata": {},
   "outputs": [],
   "source": [
    "def LSTM_model():\n",
    "    \n",
    "    model = Sequential()\n",
    "\n",
    "    model.add(LSTM(units=50, return_sequences=True, input_shape=(x_train.shape[1], 1)))\n",
    "    model.add(Dropout(0.2))\n",
    "    model.add(LSTM(units=50, return_sequences=True))\n",
    "    model.add(Dropout(0.2))\n",
    "    model.add(LSTM(units=50))\n",
    "    model.add(Dropout(0.2))\n",
    "    model.add(Dense(units=1))\n",
    "\n",
    "    return model"
   ]
  },
  {
   "cell_type": "code",
   "execution_count": 21,
   "metadata": {},
   "outputs": [
    {
     "name": "stdout",
     "output_type": "stream",
     "text": [
      "Model: \"sequential_1\"\n",
      "_________________________________________________________________\n",
      " Layer (type)                Output Shape              Param #   \n",
      "=================================================================\n",
      " lstm_3 (LSTM)               (None, 60, 50)            10400     \n",
      "                                                                 \n",
      " dropout_3 (Dropout)         (None, 60, 50)            0         \n",
      "                                                                 \n",
      " lstm_4 (LSTM)               (None, 60, 50)            20200     \n",
      "                                                                 \n",
      " dropout_4 (Dropout)         (None, 60, 50)            0         \n",
      "                                                                 \n",
      " lstm_5 (LSTM)               (None, 50)                20200     \n",
      "                                                                 \n",
      " dropout_5 (Dropout)         (None, 50)                0         \n",
      "                                                                 \n",
      " dense_1 (Dense)             (None, 1)                 51        \n",
      "                                                                 \n",
      "=================================================================\n",
      "Total params: 50851 (198.64 KB)\n",
      "Trainable params: 50851 (198.64 KB)\n",
      "Non-trainable params: 0 (0.00 Byte)\n",
      "_________________________________________________________________\n"
     ]
    }
   ],
   "source": [
    "model = LSTM_model()\n",
    "model.summary()\n",
    "model.compile(\n",
    "    optimizer='adam', \n",
    "    loss='mean_squared_error'\n",
    ")"
   ]
  },
  {
   "cell_type": "code",
   "execution_count": 22,
   "metadata": {},
   "outputs": [
    {
     "name": "stdout",
     "output_type": "stream",
     "text": [
      "Epoch 1/25\n",
      "17/17 [==============================] - ETA: 0s - loss: 0.0643WARNING:tensorflow:Can save best model only with val_loss available, skipping.\n",
      "17/17 [==============================] - 17s 103ms/step - loss: 0.0643\n",
      "Epoch 2/25\n",
      "17/17 [==============================] - ETA: 0s - loss: 0.0147WARNING:tensorflow:Can save best model only with val_loss available, skipping.\n",
      "17/17 [==============================] - 2s 103ms/step - loss: 0.0147\n",
      "Epoch 3/25\n",
      "17/17 [==============================] - ETA: 0s - loss: 0.0129WARNING:tensorflow:Can save best model only with val_loss available, skipping.\n",
      "17/17 [==============================] - 2s 101ms/step - loss: 0.0129\n",
      "Epoch 4/25\n",
      "17/17 [==============================] - ETA: 0s - loss: 0.0114WARNING:tensorflow:Can save best model only with val_loss available, skipping.\n",
      "17/17 [==============================] - 2s 109ms/step - loss: 0.0114\n",
      "Epoch 5/25\n",
      "17/17 [==============================] - ETA: 0s - loss: 0.0129WARNING:tensorflow:Can save best model only with val_loss available, skipping.\n",
      "17/17 [==============================] - 2s 122ms/step - loss: 0.0129\n",
      "Epoch 6/25\n",
      "17/17 [==============================] - ETA: 0s - loss: 0.0119WARNING:tensorflow:Can save best model only with val_loss available, skipping.\n",
      "17/17 [==============================] - 2s 123ms/step - loss: 0.0119\n",
      "Epoch 7/25\n",
      "17/17 [==============================] - ETA: 0s - loss: 0.0104WARNING:tensorflow:Can save best model only with val_loss available, skipping.\n",
      "17/17 [==============================] - 2s 109ms/step - loss: 0.0104\n",
      "Epoch 8/25\n",
      "17/17 [==============================] - ETA: 0s - loss: 0.0094WARNING:tensorflow:Can save best model only with val_loss available, skipping.\n",
      "17/17 [==============================] - 5s 192ms/step - loss: 0.0094\n",
      "Epoch 9/25\n",
      "17/17 [==============================] - ETA: 0s - loss: 0.0092WARNING:tensorflow:Can save best model only with val_loss available, skipping.\n",
      "17/17 [==============================] - 3s 167ms/step - loss: 0.0092\n",
      "Epoch 10/25\n",
      "17/17 [==============================] - ETA: 0s - loss: 0.0087WARNING:tensorflow:Can save best model only with val_loss available, skipping.\n",
      "17/17 [==============================] - 4s 144ms/step - loss: 0.0087\n",
      "Epoch 11/25\n",
      "17/17 [==============================] - ETA: 0s - loss: 0.0100WARNING:tensorflow:Can save best model only with val_loss available, skipping.\n",
      "17/17 [==============================] - 5s 290ms/step - loss: 0.0100\n",
      "Epoch 12/25\n",
      "17/17 [==============================] - ETA: 0s - loss: 0.0084WARNING:tensorflow:Can save best model only with val_loss available, skipping.\n",
      "17/17 [==============================] - 2s 141ms/step - loss: 0.0084\n",
      "Epoch 13/25\n",
      "17/17 [==============================] - ETA: 0s - loss: 0.0084WARNING:tensorflow:Can save best model only with val_loss available, skipping.\n",
      "17/17 [==============================] - 7s 410ms/step - loss: 0.0084\n",
      "Epoch 14/25\n",
      "17/17 [==============================] - ETA: 0s - loss: 0.0089WARNING:tensorflow:Can save best model only with val_loss available, skipping.\n",
      "17/17 [==============================] - 4s 253ms/step - loss: 0.0089\n",
      "Epoch 15/25\n",
      "17/17 [==============================] - ETA: 0s - loss: 0.0079WARNING:tensorflow:Can save best model only with val_loss available, skipping.\n",
      "17/17 [==============================] - 4s 239ms/step - loss: 0.0079\n",
      "Epoch 16/25\n",
      "17/17 [==============================] - ETA: 0s - loss: 0.0071WARNING:tensorflow:Can save best model only with val_loss available, skipping.\n",
      "17/17 [==============================] - 4s 207ms/step - loss: 0.0071\n",
      "Epoch 17/25\n",
      "17/17 [==============================] - ETA: 0s - loss: 0.0081WARNING:tensorflow:Can save best model only with val_loss available, skipping.\n",
      "17/17 [==============================] - 3s 193ms/step - loss: 0.0081\n",
      "Epoch 18/25\n",
      "17/17 [==============================] - ETA: 0s - loss: 0.0074WARNING:tensorflow:Can save best model only with val_loss available, skipping.\n",
      "17/17 [==============================] - 3s 161ms/step - loss: 0.0074\n",
      "Epoch 19/25\n",
      "17/17 [==============================] - ETA: 0s - loss: 0.0077WARNING:tensorflow:Can save best model only with val_loss available, skipping.\n",
      "17/17 [==============================] - 2s 133ms/step - loss: 0.0077\n",
      "Epoch 20/25\n",
      "17/17 [==============================] - ETA: 0s - loss: 0.0072WARNING:tensorflow:Can save best model only with val_loss available, skipping.\n",
      "17/17 [==============================] - 2s 117ms/step - loss: 0.0072\n",
      "Epoch 21/25\n",
      "17/17 [==============================] - ETA: 0s - loss: 0.0082WARNING:tensorflow:Can save best model only with val_loss available, skipping.\n",
      "17/17 [==============================] - 2s 109ms/step - loss: 0.0082\n",
      "Epoch 22/25\n",
      "17/17 [==============================] - ETA: 0s - loss: 0.0068WARNING:tensorflow:Can save best model only with val_loss available, skipping.\n",
      "17/17 [==============================] - 3s 153ms/step - loss: 0.0068\n",
      "Epoch 23/25\n",
      "17/17 [==============================] - ETA: 0s - loss: 0.0071WARNING:tensorflow:Can save best model only with val_loss available, skipping.\n",
      "17/17 [==============================] - 3s 199ms/step - loss: 0.0071\n",
      "Epoch 24/25\n",
      "17/17 [==============================] - ETA: 0s - loss: 0.0063WARNING:tensorflow:Can save best model only with val_loss available, skipping.\n",
      "17/17 [==============================] - 2s 136ms/step - loss: 0.0063\n",
      "Epoch 25/25\n",
      "17/17 [==============================] - ETA: 0s - loss: 0.0081WARNING:tensorflow:Can save best model only with val_loss available, skipping.\n",
      "17/17 [==============================] - 3s 162ms/step - loss: 0.0081\n"
     ]
    },
    {
     "data": {
      "text/plain": [
       "<keras.src.callbacks.History at 0x1dbecaaf590>"
      ]
     },
     "execution_count": 22,
     "metadata": {},
     "output_type": "execute_result"
    }
   ],
   "source": [
    "checkpointer = ModelCheckpoint(\n",
    "    filepath = 'weights_best.hdf5', \n",
    "    verbose = 2, \n",
    "    save_best_only = True\n",
    ")\n",
    "\n",
    "model.fit(\n",
    "    x_train, \n",
    "    y_train, \n",
    "    epochs=25, \n",
    "    batch_size = 32,\n",
    "    callbacks = [checkpointer]\n",
    ")"
   ]
  },
  {
   "cell_type": "code",
   "execution_count": 23,
   "metadata": {},
   "outputs": [],
   "source": [
    "test_data = load_data(\n",
    "    company=COMPANY,\n",
    "    start=START_DATE_TEST,\n",
    "    end=dt.datetime(2024,1,12)\n",
    ")\n",
    "\n",
    "actual_prices = test_data['Close'].values\n",
    "total_dataset = pd.concat((data['Close'], test_data['Close']), axis=0)\n",
    "model_inputs = total_dataset[len(total_dataset) - len(test_data) - prediction_days:].values\n",
    "model_inputs = model_inputs.reshape(-1, 1)\n",
    "model_inputs = scaler.transform(model_inputs)"
   ]
  },
  {
   "cell_type": "code",
   "execution_count": 24,
   "metadata": {},
   "outputs": [
    {
     "name": "stdout",
     "output_type": "stream",
     "text": [
      "5/5 [==============================] - 13s 59ms/step\n"
     ]
    }
   ],
   "source": [
    "x_test = []\n",
    "\n",
    "for x in range(prediction_days, len(model_inputs)):\n",
    "    x_test.append(model_inputs[x-prediction_days:x, 0])\n",
    "\n",
    "x_test = np.array(x_test)\n",
    "x_test = np.reshape(x_test, (x_test.shape[0], x_test.shape[1], 1))\n",
    "predicted_prices = model.predict(x_test)\n",
    "predicted_prices = scaler.inverse_transform(predicted_prices)"
   ]
  },
  {
   "cell_type": "code",
   "execution_count": 25,
   "metadata": {},
   "outputs": [
    {
     "data": {
      "image/png": "[encoded data removed]",
      "text/plain": [
       "<Figure size 640x480 with 1 Axes>"
      ]
     },
     "metadata": {},
     "output_type": "display_data"
    }
   ],
   "source": [
    "plt.plot(actual_prices, color='black', label=f\"Actual {COMPANY} price\")\n",
    "plt.plot(predicted_prices, color='green', label=f\"Predicted {COMPANY} price\")\n",
    "plt.title(f\"{COMPANY} share price\")\n",
    "plt.xlabel(\"time\")\n",
    "plt.ylabel(f\"{COMPANY} share price\")\n",
    "plt.legend()\n",
    "plt.show()"
   ]
  },
  {
   "cell_type": "code",
   "execution_count": 29,
   "metadata": {},
   "outputs": [
    {
     "name": "stdout",
     "output_type": "stream",
     "text": [
      "1/1 [==============================] - 0s 75ms/step\n",
      "Prediction: 4010.83154296875\n"
     ]
    }
   ],
   "source": [
    "real_data = [model_inputs[len(model_inputs) + 1 - prediction_days:len(model_inputs + 1), 0]]\n",
    "real_data = np.array(real_data)\n",
    "real_data = np.reshape(real_data, (real_data.shape[0], real_data.shape[1], 1))\n",
    "prediction = model.predict(real_data)\n",
    "prediction = scaler.inverse_transform(prediction)\n",
    "print(f\"Prediction: {prediction[0][0]}\")"
   ]
  }
 ],
 "metadata": {
  "kernelspec": {
   "display_name": "Python 3.11.5 ('base')",
   "language": "python",
   "name": "python3"
  },
  "language_info": {
   "codemirror_mode": {
    "name": "ipython",
    "version": 3
   },
   "file_extension": ".py",
   "mimetype": "text/x-python",
   "name": "python",
   "nbconvert_exporter": "python",
   "pygments_lexer": "ipython3",
   "version": "3.11.5"
  },
  "orig_nbformat": 4,
  "vscode": {
   "interpreter": {
    "hash": "72ab49a3e513d1f1a38b8aa7e666a1d70bc8846665ce2987208c8023d9eff140"
   }
  }
 },
 "nbformat": 4,
 "nbformat_minor": 2
}
